{
  "nbformat": 4,
  "nbformat_minor": 0,
  "metadata": {
    "colab": {
      "name": "Capstone_Final_Code(Defence).ipynb",
      "provenance": []
    },
    "kernelspec": {
      "name": "python3",
      "display_name": "Python 3"
    }
  },
  "cells": [
    {
      "cell_type": "code",
      "metadata": {
        "id": "jVAzngt45h3U"
      },
      "source": [
        "#Import packages\n",
        "import pickle\n",
        "import re\n",
        "import string\n",
        "import unicodedata\n",
        "import numpy as np\n",
        "import pandas as pd\n",
        "from sklearn.preprocessing import LabelEncoder\n",
        "from sklearn.metrics import accuracy_score\n",
        "from sklearn.metrics import plot_confusion_matrix\n",
        "import matplotlib.pyplot as plt"
      ],
      "execution_count": 134,
      "outputs": []
    },
    {
      "cell_type": "markdown",
      "metadata": {
        "id": "fDAajV7o7Hhw"
      },
      "source": [
        "**DATASET**"
      ]
    },
    {
      "cell_type": "code",
      "metadata": {
        "id": "-QOuWwWd6GiU",
        "outputId": "a5525413-1ff0-4e67-9456-01d42795be2d",
        "colab": {
          "base_uri": "https://localhost:8080/",
          "height": 198
        }
      },
      "source": [
        "#Load Dataset\n",
        "df = pd.read_csv('/content/dataset_1.txt')\n",
        "df.head()"
      ],
      "execution_count": 135,
      "outputs": [
        {
          "output_type": "execute_result",
          "data": {
            "text/html": [
              "<div>\n",
              "<style scoped>\n",
              "    .dataframe tbody tr th:only-of-type {\n",
              "        vertical-align: middle;\n",
              "    }\n",
              "\n",
              "    .dataframe tbody tr th {\n",
              "        vertical-align: top;\n",
              "    }\n",
              "\n",
              "    .dataframe thead th {\n",
              "        text-align: right;\n",
              "    }\n",
              "</style>\n",
              "<table border=\"1\" class=\"dataframe\">\n",
              "  <thead>\n",
              "    <tr style=\"text-align: right;\">\n",
              "      <th></th>\n",
              "      <th>lyrics</th>\n",
              "      <th>name</th>\n",
              "    </tr>\n",
              "  </thead>\n",
              "  <tbody>\n",
              "    <tr>\n",
              "      <th>0</th>\n",
              "      <td>মোমের পুতুল মমীর দেশের মেয়ে নেচে যায় বিহবল চ...</td>\n",
              "      <td>1.0</td>\n",
              "    </tr>\n",
              "    <tr>\n",
              "      <th>1</th>\n",
              "      <td>লাল টুকটুকে বৌ যায় গো লাল ন টের ক্ষেতে যে তার ...</td>\n",
              "      <td>1.0</td>\n",
              "    </tr>\n",
              "    <tr>\n",
              "      <th>2</th>\n",
              "      <td>অরুণকান্তি কে গো যোগী ভিখারী নীরবে হেসে দাঁড়াই...</td>\n",
              "      <td>1.0</td>\n",
              "    </tr>\n",
              "    <tr>\n",
              "      <th>3</th>\n",
              "      <td>দ্বীপ নিভিয়াছে ঝড়ে জেগে আছে মোর আঁখি কে যেন কহ...</td>\n",
              "      <td>1.0</td>\n",
              "    </tr>\n",
              "    <tr>\n",
              "      <th>4</th>\n",
              "      <td>তোমারি আঁখির মত আকাশের দুটি তারা চেয়ে থাকে মোর...</td>\n",
              "      <td>1.0</td>\n",
              "    </tr>\n",
              "  </tbody>\n",
              "</table>\n",
              "</div>"
            ],
            "text/plain": [
              "                                              lyrics  name\n",
              "0  মোমের পুতুল মমীর দেশের মেয়ে নেচে যায় বিহবল চ...   1.0\n",
              "1  লাল টুকটুকে বৌ যায় গো লাল ন টের ক্ষেতে যে তার ...   1.0\n",
              "2  অরুণকান্তি কে গো যোগী ভিখারী নীরবে হেসে দাঁড়াই...   1.0\n",
              "3  দ্বীপ নিভিয়াছে ঝড়ে জেগে আছে মোর আঁখি কে যেন কহ...   1.0\n",
              "4  তোমারি আঁখির মত আকাশের দুটি তারা চেয়ে থাকে মোর...   1.0"
            ]
          },
          "metadata": {
            "tags": []
          },
          "execution_count": 135
        }
      ]
    },
    {
      "cell_type": "markdown",
      "metadata": {
        "id": "PnGIvgc07vin"
      },
      "source": [
        "**SPLI**T **DATASET**"
      ]
    },
    {
      "cell_type": "code",
      "metadata": {
        "id": "QnZGr1z46J_N",
        "outputId": "3cc34068-4988-4003-e335-8d3f00a8fdc7",
        "colab": {
          "base_uri": "https://localhost:8080/"
        }
      },
      "source": [
        "#Split Dataset into Train and Test\n",
        "x = df.loc[:, 'lyrics'].values\n",
        "y = df.loc[:, 'name'].values\n",
        "print(x.shape)\n",
        "print(y.shape)"
      ],
      "execution_count": 136,
      "outputs": [
        {
          "output_type": "stream",
          "text": [
            "(359,)\n",
            "(359,)\n"
          ],
          "name": "stdout"
        }
      ]
    },
    {
      "cell_type": "markdown",
      "metadata": {
        "id": "s4Dq2g8M8FFR"
      },
      "source": [
        "**DATASET preprocessing**"
      ]
    },
    {
      "cell_type": "code",
      "metadata": {
        "id": "UWG1pi076NGM",
        "outputId": "e1c1591f-7ea9-4418-ba14-66042f974034",
        "colab": {
          "base_uri": "https://localhost:8080/"
        }
      },
      "source": [
        "#Feature Extraction using Tf-Idf\n",
        "from sklearn.feature_extraction.text import TfidfTransformer\n",
        "from sklearn.feature_extraction.text import TfidfVectorizer\n",
        "vectorizer = TfidfVectorizer()\n",
        "X = vectorizer.fit_transform(x)\n",
        "print(X.shape)\n",
        "#print(Y_train.shape, Y_test.shape)\n",
        "from sklearn import preprocessing\n",
        "le = preprocessing.LabelEncoder()\n",
        "Y = le.fit_transform(y)\n",
        "#Y=y\n",
        "print(Y.shape)\n",
        "print(Y)"
      ],
      "execution_count": 137,
      "outputs": [
        {
          "output_type": "stream",
          "text": [
            "(359, 1345)\n",
            "(359,)\n",
            "[ 0  0  0  0  0  0  0  0  0  0  0  0  0  0  0  0  0  0  0  0  0  0  0  0\n",
            "  0  0  0  0  0  0  0  0  0  0  0  0  0  0  0  0  0  0  0  0  0  0  0  0\n",
            "  0  0  1  1  1  1  1  1  1  1  1  1  1  1  1  1  1  1  1  1  1  1  1  1\n",
            "  1  1  1  1  1  1  1  1  1  1  1  1  1  1  1  1  1  1  1  1  1  1  1  1\n",
            "  1  1  1  1  2  2  2  2  2  2  2  2  2  2  2  2  2  2  2  2  2  2  2  2\n",
            "  2  2  2  2  2  2  2  2  2  2  2  2  2  2  2  2  2  2  2  2  2  2  2  2\n",
            "  2  2  2  2  2  2  2  2  2  2  2  2  2  2  3  3  3  3  3  3  3  3  3  3\n",
            "  3  3  3  3  3  3  3  3  3  3  3  3  3  3  3  3  3  3  3  3  3  3  3  3\n",
            "  3  3  3  3  3  3  3  4  4  4  4  4  4  4  4  4  4  4  4  4  4  4  4  4\n",
            "  4  4  4  4  4  4  4  4  4  4  5  5  5  5  5  5  5  5  5  5  5  5  5  5\n",
            "  5  5  5  5  6  6  6  6  6  6  6  6  6  6  6  6  6  6  6  7  7  7  7  7\n",
            "  7  7  7  7  7  7  7  7  7  7  8  8  8  8  8  8  8  8  8  8  8  8  8  8\n",
            "  8  8  8  8  8  8  8  8  8  8  8  8  8  8  8  8  8  8  8  8  8  9  9  9\n",
            "  9  9  9  9  9  9  9  9  9  9  9  9  9  9  9  9  9  9  9 11 10 10 10 10\n",
            " 10 10 10 10 10 10 10 10 10 10 10 10 10 10 10 10 10 10 10 10 10 10 10]\n"
          ],
          "name": "stdout"
        }
      ]
    },
    {
      "cell_type": "markdown",
      "metadata": {
        "id": "giUh6udb8ZJs"
      },
      "source": [
        "**TRAIN TEST SPLIT METHOD**"
      ]
    },
    {
      "cell_type": "code",
      "metadata": {
        "id": "Kv_i61B-6Q-p",
        "outputId": "d604f462-dbf8-47e5-d0f8-451acb07f37d",
        "colab": {
          "base_uri": "https://localhost:8080/"
        }
      },
      "source": [
        "from sklearn.model_selection import train_test_split\n",
        "X_train,X_test,Y_train,Y_test = train_test_split(X,Y,test_size=0.2)\n",
        "print(X_train.shape, X_test.shape)\n",
        "print(Y_train.shape, Y_test.shape)"
      ],
      "execution_count": 138,
      "outputs": [
        {
          "output_type": "stream",
          "text": [
            "(287, 1345) (72, 1345)\n",
            "(287,) (72,)\n"
          ],
          "name": "stdout"
        }
      ]
    },
    {
      "cell_type": "markdown",
      "metadata": {
        "id": "soPKVn6t8hQ4"
      },
      "source": [
        "**Naive Bayes Algorithm**"
      ]
    },
    {
      "cell_type": "code",
      "metadata": {
        "id": "WZXFDLtW6UI8",
        "outputId": "3be566e0-df49-4c2f-c0c6-78abe30e2739",
        "colab": {
          "base_uri": "https://localhost:8080/",
          "height": 903
        }
      },
      "source": [
        "#Naive Bayes Algorithm\n",
        "from sklearn.naive_bayes import MultinomialNB\n",
        "from sklearn.metrics import classification_report, confusion_matrix\n",
        "model = MultinomialNB().fit(X_train, Y_train)\n",
        "# Predict Output \n",
        "NBpred = model.predict(X_test)\n",
        "print(\"Train Accuracy :: \", accuracy_score(Y_train,model.predict(X_train)))\n",
        "print(\"Test Accuracy  :: \", accuracy_score(Y_test, NBpred))\n",
        "cm1=confusion_matrix(Y_test, NBpred)\n",
        "print(confusion_matrix(Y_test, NBpred))\n",
        "print(classification_report(Y_test, NBpred))\n",
        "#SVC(random_state=0)\n",
        "plot_confusion_matrix(model, X_test, Y_test)  # doctest: +SKIP\n",
        "plt.show()"
      ],
      "execution_count": 139,
      "outputs": [
        {
          "output_type": "stream",
          "text": [
            "Train Accuracy ::  0.6341463414634146\n",
            "Test Accuracy  ::  0.3472222222222222\n",
            "[[7 2 3 0 0 0 0 0 0 0 0]\n",
            " [0 7 0 0 0 0 0 0 0 0 0]\n",
            " [0 7 6 0 0 0 0 0 0 0 0]\n",
            " [0 4 0 5 0 0 0 0 0 0 0]\n",
            " [0 4 0 0 0 0 0 0 0 0 0]\n",
            " [1 2 1 0 0 0 0 0 1 0 0]\n",
            " [0 2 0 1 0 0 0 0 0 0 0]\n",
            " [1 3 0 0 0 0 0 0 0 0 0]\n",
            " [0 5 0 0 0 0 0 0 0 0 0]\n",
            " [0 2 1 0 0 0 0 0 0 0 0]\n",
            " [1 5 1 0 0 0 0 0 0 0 0]]\n",
            "              precision    recall  f1-score   support\n",
            "\n",
            "           0       0.70      0.58      0.64        12\n",
            "           1       0.16      1.00      0.28         7\n",
            "           2       0.50      0.46      0.48        13\n",
            "           3       0.83      0.56      0.67         9\n",
            "           4       0.00      0.00      0.00         4\n",
            "           5       0.00      0.00      0.00         5\n",
            "           6       0.00      0.00      0.00         3\n",
            "           7       0.00      0.00      0.00         4\n",
            "           8       0.00      0.00      0.00         5\n",
            "           9       0.00      0.00      0.00         3\n",
            "          10       0.00      0.00      0.00         7\n",
            "\n",
            "    accuracy                           0.35        72\n",
            "   macro avg       0.20      0.24      0.19        72\n",
            "weighted avg       0.33      0.35      0.30        72\n",
            "\n"
          ],
          "name": "stdout"
        },
        {
          "output_type": "stream",
          "text": [
            "/usr/local/lib/python3.6/dist-packages/sklearn/metrics/_classification.py:1272: UndefinedMetricWarning: Precision and F-score are ill-defined and being set to 0.0 in labels with no predicted samples. Use `zero_division` parameter to control this behavior.\n",
            "  _warn_prf(average, modifier, msg_start, len(result))\n"
          ],
          "name": "stderr"
        },
        {
          "output_type": "display_data",
          "data": {
            "image/png": "[encoded data removed]",
            "text/plain": [
              "<Figure size 432x288 with 2 Axes>"
            ]
          },
          "metadata": {
            "tags": [],
            "needs_background": "light"
          }
        }
      ]
    },
    {
      "cell_type": "markdown",
      "metadata": {
        "id": "yFCsDrVF9O1M"
      },
      "source": [
        "**K-FOLD (K=10)**"
      ]
    },
    {
      "cell_type": "code",
      "metadata": {
        "id": "RAFNH80j9MhV",
        "outputId": "ec3b4656-236f-47e2-a0a3-edd197e8f3b2",
        "colab": {
          "base_uri": "https://localhost:8080/"
        }
      },
      "source": [
        "from sklearn.model_selection import cross_val_score\n",
        "from sklearn import naive_bayes\n",
        "clf = naive_bayes.MultinomialNB()\n",
        "scores = cross_val_score(clf, X, Y, cv=10) #CV means K\n",
        "print(scores)\n",
        "print(\"Accuracy: %0.2f (+/- %0.2f)\" % (scores.mean(), scores.std() * 2))"
      ],
      "execution_count": 140,
      "outputs": [
        {
          "output_type": "stream",
          "text": [
            "[0.41666667 0.30555556 0.41666667 0.44444444 0.30555556 0.36111111\n",
            " 0.30555556 0.38888889 0.41666667 0.37142857]\n",
            "Accuracy: 0.37 (+/- 0.10)\n"
          ],
          "name": "stdout"
        },
        {
          "output_type": "stream",
          "text": [
            "/usr/local/lib/python3.6/dist-packages/sklearn/model_selection/_split.py:667: UserWarning: The least populated class in y has only 1 members, which is less than n_splits=10.\n",
            "  % (min_groups, self.n_splits)), UserWarning)\n"
          ],
          "name": "stderr"
        }
      ]
    },
    {
      "cell_type": "markdown",
      "metadata": {
        "id": "aP7dl9bR84yR"
      },
      "source": [
        "**K-FOLD (K=5)**"
      ]
    },
    {
      "cell_type": "code",
      "metadata": {
        "id": "AS14o98Q9NDN",
        "outputId": "20fda171-0ebc-49c5-cda1-de7930c63c34",
        "colab": {
          "base_uri": "https://localhost:8080/"
        }
      },
      "source": [
        "from sklearn.model_selection import cross_val_score\n",
        "from sklearn import naive_bayes\n",
        "clf = naive_bayes.MultinomialNB()\n",
        "scores = cross_val_score(clf, X, Y, cv=5) #CV means K\n",
        "print(scores)\n",
        "print(\"Accuracy: %0.2f (+/- %0.2f)\" % (scores.mean(), scores.std() * 2))"
      ],
      "execution_count": 132,
      "outputs": [
        {
          "output_type": "stream",
          "text": [
            "[0.33333333 0.44444444 0.30555556 0.31944444 0.35211268]\n",
            "Accuracy: 0.35 (+/- 0.10)\n"
          ],
          "name": "stdout"
        },
        {
          "output_type": "stream",
          "text": [
            "/usr/local/lib/python3.6/dist-packages/sklearn/model_selection/_split.py:667: UserWarning: The least populated class in y has only 1 members, which is less than n_splits=5.\n",
            "  % (min_groups, self.n_splits)), UserWarning)\n"
          ],
          "name": "stderr"
        }
      ]
    },
    {
      "cell_type": "markdown",
      "metadata": {
        "id": "Z94D2gS99iGK"
      },
      "source": [
        "**JACKKNIFE for NB**"
      ]
    },
    {
      "cell_type": "code",
      "metadata": {
        "id": "H0OrY_k7J0TW",
        "outputId": "eda5e5fb-e867-4fb4-b6a2-6e7d1766a19f",
        "colab": {
          "base_uri": "https://localhost:8080/"
        }
      },
      "source": [
        "from sklearn import naive_bayes\n",
        "from sklearn.model_selection import LeaveOneOut\n",
        "from sklearn.model_selection import cross_val_score\n",
        "loocv = model_selection.LeaveOneOut()\n",
        "clf = naive_bayes.MultinomialNB()\n",
        "results_loocv = model_selection.cross_val_score(clf, X, Y, cv=loocv)\n",
        "#print(results_loocv)\n",
        "results_loocv.shape\n",
        "print(\"Accuracy: %.2f%%\" % (results_loocv.mean()*100.0))"
      ],
      "execution_count": 133,
      "outputs": [
        {
          "output_type": "stream",
          "text": [
            "Accuracy: 35.65%\n"
          ],
          "name": "stdout"
        }
      ]
    },
    {
      "cell_type": "markdown",
      "metadata": {
        "id": "mCO-W-n_-k7P"
      },
      "source": [
        "**Decision Tree Algorithm**"
      ]
    },
    {
      "cell_type": "code",
      "metadata": {
        "id": "MO9cVAot6YSq",
        "outputId": "3302c4d6-0954-403e-cd99-67777f2a7ac3",
        "colab": {
          "base_uri": "https://localhost:8080/",
          "height": 846
        }
      },
      "source": [
        "#Decision Tree Algorithm\n",
        "from sklearn.tree import DecisionTreeClassifier\n",
        "from sklearn.metrics import classification_report, confusion_matrix\n",
        "classifier = DecisionTreeClassifier()\n",
        "classifier.fit(X_train, Y_train)\n",
        "Y_pred = classifier.predict(X_test)\n",
        "print(\"Train Accuracy :: \", accuracy_score(Y_train,classifier.predict(X_train)))\n",
        "print(\"Test Accuracy  :: \", accuracy_score(Y_test, Y_pred))\n",
        "cm1=confusion_matrix(Y_test, Y_pred)\n",
        "print(confusion_matrix(Y_test, Y_pred))\n",
        "print(classification_report(Y_test, Y_pred))\n",
        "plot_confusion_matrix(model, X_test, Y_test)  # doctest: +SKIP\n",
        "plt.show()"
      ],
      "execution_count": 141,
      "outputs": [
        {
          "output_type": "stream",
          "text": [
            "Train Accuracy ::  1.0\n",
            "Test Accuracy  ::  0.2916666666666667\n",
            "[[4 1 2 1 2 0 0 0 0 1 1]\n",
            " [2 0 1 0 0 1 0 2 0 0 1]\n",
            " [3 2 3 1 1 0 0 0 3 0 0]\n",
            " [1 0 0 7 0 0 0 0 0 1 0]\n",
            " [1 0 1 0 1 1 0 0 0 0 0]\n",
            " [0 0 0 0 0 3 0 0 0 1 1]\n",
            " [1 0 1 0 0 0 0 0 0 1 0]\n",
            " [0 0 0 0 1 0 1 1 0 1 0]\n",
            " [0 1 2 0 0 0 0 0 1 1 0]\n",
            " [0 1 0 0 0 0 1 1 0 0 0]\n",
            " [1 0 2 0 2 0 0 1 0 0 1]]\n",
            "              precision    recall  f1-score   support\n",
            "\n",
            "           0       0.31      0.33      0.32        12\n",
            "           1       0.00      0.00      0.00         7\n",
            "           2       0.25      0.23      0.24        13\n",
            "           3       0.78      0.78      0.78         9\n",
            "           4       0.14      0.25      0.18         4\n",
            "           5       0.60      0.60      0.60         5\n",
            "           6       0.00      0.00      0.00         3\n",
            "           7       0.20      0.25      0.22         4\n",
            "           8       0.25      0.20      0.22         5\n",
            "           9       0.00      0.00      0.00         3\n",
            "          10       0.25      0.14      0.18         7\n",
            "\n",
            "    accuracy                           0.29        72\n",
            "   macro avg       0.25      0.25      0.25        72\n",
            "weighted avg       0.30      0.29      0.29        72\n",
            "\n"
          ],
          "name": "stdout"
        },
        {
          "output_type": "display_data",
          "data": {
            "image/png": "[encoded data removed]",
            "text/plain": [
              "<Figure size 432x288 with 2 Axes>"
            ]
          },
          "metadata": {
            "tags": [],
            "needs_background": "light"
          }
        }
      ]
    },
    {
      "cell_type": "markdown",
      "metadata": {
        "id": "5SIVS8Ic-tuz"
      },
      "source": [
        "**K-FOLD**"
      ]
    },
    {
      "cell_type": "code",
      "metadata": {
        "id": "2juY8MhE9Jas",
        "outputId": "c31b35a7-7028-44a0-c82d-dca06edd794f",
        "colab": {
          "base_uri": "https://localhost:8080/"
        }
      },
      "source": [
        "from sklearn.model_selection import cross_val_score\n",
        "from sklearn import tree\n",
        "clf = tree.DecisionTreeClassifier()\n",
        "scores = cross_val_score(clf, X, Y, cv=10) #CV means K\n",
        "print(scores)\n",
        "print(\"Accuracy: %0.2f (+/- %0.2f)\" % (scores.mean(), scores.std() * 2))"
      ],
      "execution_count": 142,
      "outputs": [
        {
          "output_type": "stream",
          "text": [
            "/usr/local/lib/python3.6/dist-packages/sklearn/model_selection/_split.py:667: UserWarning: The least populated class in y has only 1 members, which is less than n_splits=10.\n",
            "  % (min_groups, self.n_splits)), UserWarning)\n"
          ],
          "name": "stderr"
        },
        {
          "output_type": "stream",
          "text": [
            "[0.30555556 0.38888889 0.36111111 0.19444444 0.33333333 0.30555556\n",
            " 0.38888889 0.27777778 0.22222222 0.37142857]\n",
            "Accuracy: 0.31 (+/- 0.13)\n"
          ],
          "name": "stdout"
        }
      ]
    },
    {
      "cell_type": "code",
      "metadata": {
        "id": "txMwgMTz9J9y",
        "outputId": "910d5162-09ad-4a2d-d6cb-c9e91e6d6af4",
        "colab": {
          "base_uri": "https://localhost:8080/"
        }
      },
      "source": [
        "from sklearn.model_selection import cross_val_score\n",
        "from sklearn import tree\n",
        "clf = tree.DecisionTreeClassifier()\n",
        "scores = cross_val_score(clf, X, Y, cv=5) #CV means K\n",
        "print(scores)\n",
        "print(\"Accuracy: %0.2f (+/- %0.2f)\" % (scores.mean(), scores.std() * 2))"
      ],
      "execution_count": 143,
      "outputs": [
        {
          "output_type": "stream",
          "text": [
            "[0.30555556 0.33333333 0.25       0.33333333 0.33802817]\n",
            "Accuracy: 0.31 (+/- 0.07)\n"
          ],
          "name": "stdout"
        },
        {
          "output_type": "stream",
          "text": [
            "/usr/local/lib/python3.6/dist-packages/sklearn/model_selection/_split.py:667: UserWarning: The least populated class in y has only 1 members, which is less than n_splits=5.\n",
            "  % (min_groups, self.n_splits)), UserWarning)\n"
          ],
          "name": "stderr"
        }
      ]
    },
    {
      "cell_type": "markdown",
      "metadata": {
        "id": "pDOEcprPUSEQ"
      },
      "source": [
        "**JACKKNIFE**"
      ]
    },
    {
      "cell_type": "code",
      "metadata": {
        "id": "z3N7qT4yUNcb",
        "outputId": "10b6c5bc-d6b0-473f-9574-3cfc66707f31",
        "colab": {
          "base_uri": "https://localhost:8080/"
        }
      },
      "source": [
        "from sklearn import tree\n",
        "from sklearn.model_selection import LeaveOneOut\n",
        "from sklearn.model_selection import cross_val_score\n",
        "\n",
        "loocv = model_selection.LeaveOneOut()\n",
        "clf = tree.DecisionTreeClassifier()\n",
        "results_loocv = model_selection.cross_val_score(clf, X, Y, cv=loocv)\n",
        "#print(results_loocv)\n",
        "results_loocv.shape\n",
        "print(\"Accuracy: %.2f%%\" % (results_loocv.mean()*100.0))"
      ],
      "execution_count": 145,
      "outputs": [
        {
          "output_type": "stream",
          "text": [
            "Accuracy: 32.59%\n"
          ],
          "name": "stdout"
        }
      ]
    },
    {
      "cell_type": "markdown",
      "metadata": {
        "id": "9EWIgFGJ-yVh"
      },
      "source": [
        "**SVM Algorithm**"
      ]
    },
    {
      "cell_type": "code",
      "metadata": {
        "id": "jpJlSTyU6cr1",
        "outputId": "670aec4b-2290-4ce8-ec33-fe00fd8a4de9",
        "colab": {
          "base_uri": "https://localhost:8080/",
          "height": 903
        }
      },
      "source": [
        "#SVM Algorithm\n",
        "from sklearn.svm import SVC,SVR\n",
        "from sklearn.metrics import classification_report, confusion_matrix\n",
        "from sklearn.metrics import plot_confusion_matrix\n",
        "import matplotlib.pyplot as plt\n",
        "\n",
        "svclassifier = SVC(kernel='linear')\n",
        "svclassifier.fit(X_train, Y_train)\n",
        "SVM_pred = svclassifier.predict(X_test)\n",
        "print(\"Train Accuracy :: \", accuracy_score(Y_train,svclassifier.predict(X_train)))\n",
        "print(\"Test Accuracy  :: \", accuracy_score(Y_test, SVM_pred))\n",
        "cm1=confusion_matrix(Y_test, SVM_pred)\n",
        "print(confusion_matrix(Y_test, SVM_pred))\n",
        "print(classification_report(Y_test, SVM_pred))\n",
        "SVC(random_state=0)\n",
        "plot_confusion_matrix(svclassifier, X_test, Y_test)  # doctest: +SKIP\n",
        "plt.show()"
      ],
      "execution_count": 146,
      "outputs": [
        {
          "output_type": "stream",
          "text": [
            "Train Accuracy ::  0.9616724738675958\n",
            "Test Accuracy  ::  0.5555555555555556\n",
            "[[8 1 3 0 0 0 0 0 0 0 0]\n",
            " [0 7 0 0 0 0 0 0 0 0 0]\n",
            " [0 3 9 0 1 0 0 0 0 0 0]\n",
            " [1 0 0 8 0 0 0 0 0 0 0]\n",
            " [0 1 0 1 1 0 0 0 1 0 0]\n",
            " [0 0 0 0 0 2 0 0 0 3 0]\n",
            " [1 1 0 1 0 0 0 0 0 0 0]\n",
            " [0 2 0 0 0 0 0 0 1 1 0]\n",
            " [1 2 1 0 0 0 0 0 1 0 0]\n",
            " [1 1 0 0 0 0 0 0 0 1 0]\n",
            " [1 3 0 0 0 0 0 0 0 0 3]]\n",
            "              precision    recall  f1-score   support\n",
            "\n",
            "           0       0.62      0.67      0.64        12\n",
            "           1       0.33      1.00      0.50         7\n",
            "           2       0.69      0.69      0.69        13\n",
            "           3       0.80      0.89      0.84         9\n",
            "           4       0.50      0.25      0.33         4\n",
            "           5       1.00      0.40      0.57         5\n",
            "           6       0.00      0.00      0.00         3\n",
            "           7       0.00      0.00      0.00         4\n",
            "           8       0.33      0.20      0.25         5\n",
            "           9       0.20      0.33      0.25         3\n",
            "          10       1.00      0.43      0.60         7\n",
            "\n",
            "    accuracy                           0.56        72\n",
            "   macro avg       0.50      0.44      0.43        72\n",
            "weighted avg       0.59      0.56      0.53        72\n",
            "\n"
          ],
          "name": "stdout"
        },
        {
          "output_type": "stream",
          "text": [
            "/usr/local/lib/python3.6/dist-packages/sklearn/metrics/_classification.py:1272: UndefinedMetricWarning: Precision and F-score are ill-defined and being set to 0.0 in labels with no predicted samples. Use `zero_division` parameter to control this behavior.\n",
            "  _warn_prf(average, modifier, msg_start, len(result))\n"
          ],
          "name": "stderr"
        },
        {
          "output_type": "display_data",
          "data": {
            "image/png": "[encoded data removed]",
            "text/plain": [
              "<Figure size 432x288 with 2 Axes>"
            ]
          },
          "metadata": {
            "tags": [],
            "needs_background": "light"
          }
        }
      ]
    },
    {
      "cell_type": "markdown",
      "metadata": {
        "id": "iG0LdMnP-7jQ"
      },
      "source": [
        "**K-FOLD**"
      ]
    },
    {
      "cell_type": "code",
      "metadata": {
        "id": "Ez9eQP1y6hHe",
        "outputId": "81fc8824-d778-4570-fbe3-c1ac9ff75b42",
        "colab": {
          "base_uri": "https://localhost:8080/"
        }
      },
      "source": [
        "from sklearn.model_selection import cross_val_score\n",
        "from sklearn import svm\n",
        "clf = svm.SVC(kernel='linear', C=1)\n",
        "scores = cross_val_score(clf, X, Y, cv=10) #CV means K\n",
        "print(scores)\n",
        "\n",
        "print(\"Accuracy: %0.2f (+/- %0.2f)\" % (scores.mean(), scores.std() * 2))"
      ],
      "execution_count": 147,
      "outputs": [
        {
          "output_type": "stream",
          "text": [
            "/usr/local/lib/python3.6/dist-packages/sklearn/model_selection/_split.py:667: UserWarning: The least populated class in y has only 1 members, which is less than n_splits=10.\n",
            "  % (min_groups, self.n_splits)), UserWarning)\n"
          ],
          "name": "stderr"
        },
        {
          "output_type": "stream",
          "text": [
            "[0.52777778 0.41666667 0.61111111 0.58333333 0.44444444 0.44444444\n",
            " 0.38888889 0.5        0.58333333 0.51428571]\n",
            "Accuracy: 0.50 (+/- 0.15)\n"
          ],
          "name": "stdout"
        }
      ]
    },
    {
      "cell_type": "code",
      "metadata": {
        "id": "pRbH2am_6_gT",
        "outputId": "63bb468d-44e1-4d51-df36-83417144750b",
        "colab": {
          "base_uri": "https://localhost:8080/"
        }
      },
      "source": [
        "from sklearn.model_selection import cross_val_score\n",
        "from sklearn import svm\n",
        "clf = svm.SVC(kernel='linear', C=1)\n",
        "scores = cross_val_score(clf, X, Y, cv=5) #CV means K\n",
        "print(scores)\n",
        "\n",
        "print(\"Accuracy: %0.2f (+/- %0.2f)\" % (scores.mean(), scores.std() * 2))"
      ],
      "execution_count": 148,
      "outputs": [
        {
          "output_type": "stream",
          "text": [
            "/usr/local/lib/python3.6/dist-packages/sklearn/model_selection/_split.py:667: UserWarning: The least populated class in y has only 1 members, which is less than n_splits=5.\n",
            "  % (min_groups, self.n_splits)), UserWarning)\n"
          ],
          "name": "stderr"
        },
        {
          "output_type": "stream",
          "text": [
            "[0.43055556 0.55555556 0.45833333 0.44444444 0.53521127]\n",
            "Accuracy: 0.48 (+/- 0.10)\n"
          ],
          "name": "stdout"
        }
      ]
    },
    {
      "cell_type": "markdown",
      "metadata": {
        "id": "8LeA99ZgVClZ"
      },
      "source": [
        "**JACKKNIFE for SVM**"
      ]
    },
    {
      "cell_type": "code",
      "metadata": {
        "id": "HBG13HgQU6dH",
        "outputId": "48e34d9c-e2f4-4df6-dc35-9ccc2bf519ae",
        "colab": {
          "base_uri": "https://localhost:8080/"
        }
      },
      "source": [
        "from sklearn import svm\n",
        "from sklearn.model_selection import LeaveOneOut\n",
        "from sklearn.model_selection import cross_val_score\n",
        "\n",
        "loocv = model_selection.LeaveOneOut()\n",
        "clf = svm.SVC(kernel='linear', C=1)\n",
        "results_loocv = model_selection.cross_val_score(clf, X, Y, cv=loocv)\n",
        "#print(results_loocv)\n",
        "results_loocv.shape\n",
        "print(\"Accuracy: %.2f%%\" % (results_loocv.mean()*100.0))"
      ],
      "execution_count": 120,
      "outputs": [
        {
          "output_type": "stream",
          "text": [
            "Accuracy: 50.97%\n"
          ],
          "name": "stdout"
        }
      ]
    },
    {
      "cell_type": "markdown",
      "metadata": {
        "id": "w7X5c8Yi_BNe"
      },
      "source": [
        "**Random Forest Algorithm**"
      ]
    },
    {
      "cell_type": "code",
      "metadata": {
        "id": "CR2WLgmC6m6j",
        "outputId": "72e9db3c-5599-4797-dbe8-a47c69222ca0",
        "colab": {
          "base_uri": "https://localhost:8080/",
          "height": 1000
        }
      },
      "source": [
        "#Random Forest Algorithm\n",
        "from sklearn.ensemble.forest import RandomForestClassifier\n",
        "clf = RandomForestClassifier(n_estimators=20, max_depth=5,random_state=47)\n",
        "model=clf.fit(X_train, Y_train)\n",
        "print(\"Trained model :: \",model)\n",
        "predictions =model.predict(X_test)\n",
        "print(\"Train Accuracy :: \", accuracy_score(Y_train,model.predict(X_train)))\n",
        "print(\"Test Accuracy  :: \", accuracy_score(Y_test, predictions))\n",
        "cm1=confusion_matrix(Y_test, predictions)\n",
        "print(confusion_matrix(Y_test, predictions))\n",
        "print(classification_report(Y_test, predictions))\n",
        "plot_confusion_matrix(clf, X_test, Y_test)  # doctest: +SKIP\n",
        "plt.show()"
      ],
      "execution_count": null,
      "outputs": [
        {
          "output_type": "stream",
          "text": [
            "Trained model ::  RandomForestClassifier(bootstrap=True, ccp_alpha=0.0, class_weight=None,\n",
            "                       criterion='gini', max_depth=5, max_features='auto',\n",
            "                       max_leaf_nodes=None, max_samples=None,\n",
            "                       min_impurity_decrease=0.0, min_impurity_split=None,\n",
            "                       min_samples_leaf=1, min_samples_split=2,\n",
            "                       min_weight_fraction_leaf=0.0, n_estimators=20,\n",
            "                       n_jobs=None, oob_score=False, random_state=47, verbose=0,\n",
            "                       warm_start=False)\n",
            "Train Accuracy ::  0.6384976525821596\n",
            "Test Accuracy  ::  0.4205607476635514\n",
            "[[ 3  1  3  2  0  1  0  0  2  0  0]\n",
            " [ 0  0  0  0  0  0  1  0 10  0  0]\n",
            " [ 0  2  1  1  0  0  0  0  3  2  0]\n",
            " [ 0  0  2 18  0  0  0  0  3  0  0]\n",
            " [ 0  0  0  2  5  0  0  0  3  0  0]\n",
            " [ 0  0  0  2  0  4  0  0  0  0  0]\n",
            " [ 0  0  0  0  0  0  1  0  3  0  0]\n",
            " [ 1  0  1  0  0  0  0  2  4  0  0]\n",
            " [ 0  0  0  0  0  0  0  0 10  0  0]\n",
            " [ 0  1  4  0  0  0  0  0  4  1  0]\n",
            " [ 1  0  1  0  0  1  0  0  1  0  0]]\n",
            "              precision    recall  f1-score   support\n",
            "\n",
            "           0       0.60      0.25      0.35        12\n",
            "           1       0.00      0.00      0.00        11\n",
            "           2       0.08      0.11      0.10         9\n",
            "           3       0.72      0.78      0.75        23\n",
            "           4       1.00      0.50      0.67        10\n",
            "           5       0.67      0.67      0.67         6\n",
            "           6       0.50      0.25      0.33         4\n",
            "           7       1.00      0.25      0.40         8\n",
            "           8       0.23      1.00      0.38        10\n",
            "           9       0.33      0.10      0.15        10\n",
            "          10       0.00      0.00      0.00         4\n",
            "\n",
            "    accuracy                           0.42       107\n",
            "   macro avg       0.47      0.36      0.35       107\n",
            "weighted avg       0.51      0.42      0.40       107\n",
            "\n"
          ],
          "name": "stdout"
        },
        {
          "output_type": "stream",
          "text": [
            "/usr/local/lib/python3.6/dist-packages/sklearn/metrics/_classification.py:1272: UndefinedMetricWarning: Precision and F-score are ill-defined and being set to 0.0 in labels with no predicted samples. Use `zero_division` parameter to control this behavior.\n",
            "  _warn_prf(average, modifier, msg_start, len(result))\n"
          ],
          "name": "stderr"
        },
        {
          "output_type": "display_data",
          "data": {
            "image/png": "[encoded data removed]",
            "text/plain": [
              "<Figure size 432x288 with 2 Axes>"
            ]
          },
          "metadata": {
            "tags": [],
            "needs_background": "light"
          }
        }
      ]
    },
    {
      "cell_type": "markdown",
      "metadata": {
        "id": "6SWm5YDZ_Idt"
      },
      "source": [
        "**K-FOLD**"
      ]
    },
    {
      "cell_type": "code",
      "metadata": {
        "id": "hdOO83Om7EEh",
        "outputId": "e60c4297-5f63-4358-c781-00076e7e3ee3",
        "colab": {
          "base_uri": "https://localhost:8080/"
        }
      },
      "source": [
        "from sklearn.model_selection import cross_val_score\n",
        "from sklearn import ensemble\n",
        "clf =ensemble.forest.RandomForestClassifier()\n",
        "scores = cross_val_score(clf, X, Y, cv=10) #CV means K\n",
        "print(scores)\n",
        "print(\"Accuracy: %0.2f (+/- %0.2f)\" % (scores.mean(), scores.std() * 2))"
      ],
      "execution_count": null,
      "outputs": [
        {
          "output_type": "stream",
          "text": [
            "/usr/local/lib/python3.6/dist-packages/sklearn/model_selection/_split.py:667: UserWarning: The least populated class in y has only 1 members, which is less than n_splits=10.\n",
            "  % (min_groups, self.n_splits)), UserWarning)\n"
          ],
          "name": "stderr"
        },
        {
          "output_type": "stream",
          "text": [
            "[0.77777778 0.75925926 0.77777778 0.8490566  0.75471698 0.77358491\n",
            " 0.86792453 0.81132075 0.8490566  0.88679245]\n",
            "Accuracy: 0.81 (+/- 0.09)\n"
          ],
          "name": "stdout"
        }
      ]
    },
    {
      "cell_type": "code",
      "metadata": {
        "id": "Lg19BOce7F3z",
        "outputId": "237fdc2a-b4e2-458d-bb58-3fef0b4fb03a",
        "colab": {
          "base_uri": "https://localhost:8080/"
        }
      },
      "source": [
        "from sklearn.model_selection import cross_val_score\n",
        "from sklearn import ensemble\n",
        "clf =ensemble.forest.RandomForestClassifier()\n",
        "scores = cross_val_score(clf, X, Y, cv=5) #CV means K\n",
        "print(scores)\n",
        "print(\"Accuracy: %0.2f (+/- %0.2f)\" % (scores.mean(), scores.std() * 2))"
      ],
      "execution_count": null,
      "outputs": [
        {
          "output_type": "stream",
          "text": [
            "/usr/local/lib/python3.6/dist-packages/sklearn/model_selection/_split.py:667: UserWarning: The least populated class in y has only 1 members, which is less than n_splits=5.\n",
            "  % (min_groups, self.n_splits)), UserWarning)\n"
          ],
          "name": "stderr"
        },
        {
          "output_type": "stream",
          "text": [
            "[0.77570093 0.79439252 0.74766355 0.78301887 0.77358491]\n",
            "Accuracy: 0.77 (+/- 0.03)\n"
          ],
          "name": "stdout"
        }
      ]
    },
    {
      "cell_type": "markdown",
      "metadata": {
        "id": "OThjjhWzVnwo"
      },
      "source": [
        "**JACKKNIFE for RFA**"
      ]
    },
    {
      "cell_type": "code",
      "metadata": {
        "id": "5m-fjhSWVPym",
        "outputId": "d0f18c8b-cdcd-425c-c9c2-13849988e86b",
        "colab": {
          "base_uri": "https://localhost:8080/"
        }
      },
      "source": [
        "from sklearn import ensemble\n",
        "from sklearn.model_selection import LeaveOneOut\n",
        "from sklearn.model_selection import cross_val_score\n",
        "\n",
        "loocv = model_selection.LeaveOneOut()\n",
        "clf =ensemble.RandomForestClassifier()\n",
        "results_loocv = model_selection.cross_val_score(clf, X, Y, cv=loocv)\n",
        "#print(results_loocv)\n",
        "results_loocv.shape\n",
        "print(\"Accuracy: %.2f%%\" % (results_loocv.mean()*100.0))"
      ],
      "execution_count": 123,
      "outputs": [
        {
          "output_type": "stream",
          "text": [
            "Accuracy: 44.01%\n"
          ],
          "name": "stdout"
        }
      ]
    },
    {
      "cell_type": "markdown",
      "metadata": {
        "id": "8qas3g_G_Pr-"
      },
      "source": [
        "**Ada-Boost Algorithm**"
      ]
    },
    {
      "cell_type": "code",
      "metadata": {
        "id": "Mvzqiy4g6p31",
        "outputId": "39972e90-648a-4dcf-f61e-8c95b26b7590",
        "colab": {
          "base_uri": "https://localhost:8080/",
          "height": 935
        }
      },
      "source": [
        "#Ada-Boost Algorithm\n",
        "from sklearn.ensemble import AdaBoostClassifier\n",
        "from sklearn.metrics import classification_report, confusion_matrix\n",
        "clf = AdaBoostClassifier(n_estimators=100, random_state=0)\n",
        "Model=clf.fit(X_train,Y_train)  \n",
        "print(\"Trained model :: \",Model)\n",
        "Ada_pred =Model.predict(X_test)\n",
        "print(\"Train Accuracy :: \", accuracy_score(Y_train,Model.predict(X_train)))\n",
        "print(\"Test Accuracy  :: \", accuracy_score(Y_test, Ada_pred))\n",
        "cm1=confusion_matrix(Y_test, Ada_pred)\n",
        "print(confusion_matrix(Y_test, Ada_pred))\n",
        "print(classification_report(Y_test, Ada_pred))\n",
        "plot_confusion_matrix(clf, X_test, Y_test)  # doctest: +SKIP\n",
        "plt.show()"
      ],
      "execution_count": null,
      "outputs": [
        {
          "output_type": "stream",
          "text": [
            "Trained model ::  AdaBoostClassifier(algorithm='SAMME.R', base_estimator=None, learning_rate=1.0,\n",
            "                   n_estimators=100, random_state=0)\n",
            "Train Accuracy ::  0.1619718309859155\n",
            "Test Accuracy  ::  0.11214953271028037\n",
            "[[ 1  0  0  0  0  0  0  0 11  0  0]\n",
            " [ 0  0  0  0  0  0  0  0 11  0  0]\n",
            " [ 0  0  0  0  0  0  0  0  9  0  0]\n",
            " [15  0  0  3  0  0  0  0  5  0  0]\n",
            " [ 0  0  0  0  0  0  0  0 10  0  0]\n",
            " [ 0  0  0  0  0  0  0  0  6  0  0]\n",
            " [ 0  0  0  0  0  0  0  0  4  0  0]\n",
            " [ 0  0  0  0  0  0  0  0  8  0  0]\n",
            " [ 2  0  0  0  0  0  0  0  8  0  0]\n",
            " [ 0  0  0  0  0  0  0  0 10  0  0]\n",
            " [ 0  0  0  0  0  0  0  0  4  0  0]]\n",
            "              precision    recall  f1-score   support\n",
            "\n",
            "           0       0.06      0.08      0.07        12\n",
            "           1       0.00      0.00      0.00        11\n",
            "           2       0.00      0.00      0.00         9\n",
            "           3       1.00      0.13      0.23        23\n",
            "           4       0.00      0.00      0.00        10\n",
            "           5       0.00      0.00      0.00         6\n",
            "           6       0.00      0.00      0.00         4\n",
            "           7       0.00      0.00      0.00         8\n",
            "           8       0.09      0.80      0.17        10\n",
            "           9       0.00      0.00      0.00        10\n",
            "          10       0.00      0.00      0.00         4\n",
            "\n",
            "    accuracy                           0.11       107\n",
            "   macro avg       0.10      0.09      0.04       107\n",
            "weighted avg       0.23      0.11      0.07       107\n",
            "\n"
          ],
          "name": "stdout"
        },
        {
          "output_type": "stream",
          "text": [
            "/usr/local/lib/python3.6/dist-packages/sklearn/metrics/_classification.py:1272: UndefinedMetricWarning: Precision and F-score are ill-defined and being set to 0.0 in labels with no predicted samples. Use `zero_division` parameter to control this behavior.\n",
            "  _warn_prf(average, modifier, msg_start, len(result))\n"
          ],
          "name": "stderr"
        },
        {
          "output_type": "display_data",
          "data": {
            "image/png": "[encoded data removed]",
            "text/plain": [
              "<Figure size 432x288 with 2 Axes>"
            ]
          },
          "metadata": {
            "tags": [],
            "needs_background": "light"
          }
        }
      ]
    },
    {
      "cell_type": "markdown",
      "metadata": {
        "id": "Wi95TRbQ_U4O"
      },
      "source": [
        "**K-FOLD**"
      ]
    },
    {
      "cell_type": "code",
      "metadata": {
        "id": "NET9nt0S6tFc",
        "outputId": "ab4cb5c0-13d9-4724-be8a-8e1e2b3493a3",
        "colab": {
          "base_uri": "https://localhost:8080/"
        }
      },
      "source": [
        "from sklearn.model_selection import cross_val_score\n",
        "from sklearn import ensemble\n",
        "clf =  ensemble.AdaBoostClassifier()\n",
        "scores = cross_val_score(clf, X, Y, cv=10) #CV means K\n",
        "print(scores)\n",
        "print(\"Accuracy: %0.2f (+/- %0.2f)\" % (scores.mean(), scores.std() * 2))"
      ],
      "execution_count": null,
      "outputs": [
        {
          "output_type": "stream",
          "text": [
            "/usr/local/lib/python3.6/dist-packages/sklearn/model_selection/_split.py:667: UserWarning: The least populated class in y has only 1 members, which is less than n_splits=10.\n",
            "  % (min_groups, self.n_splits)), UserWarning)\n"
          ],
          "name": "stderr"
        },
        {
          "output_type": "stream",
          "text": [
            "[0.27777778 0.2962963  0.24074074 0.26415094 0.1509434  0.28301887\n",
            " 0.30188679 0.26415094 0.32075472 0.1509434 ]\n",
            "Accuracy: 0.26 (+/- 0.11)\n"
          ],
          "name": "stdout"
        }
      ]
    },
    {
      "cell_type": "code",
      "metadata": {
        "id": "MAxcrNvz82_V",
        "outputId": "9f0917d1-53ac-4ac9-b82c-09dbaeeaf466",
        "colab": {
          "base_uri": "https://localhost:8080/"
        }
      },
      "source": [
        "from sklearn.model_selection import cross_val_score\n",
        "from sklearn import ensemble\n",
        "clf =  ensemble.AdaBoostClassifier()\n",
        "scores = cross_val_score(clf, X, Y, cv=5) #CV means K\n",
        "print(scores)\n",
        "print(\"Accuracy: %0.2f (+/- %0.2f)\" % (scores.mean(), scores.std() * 2))"
      ],
      "execution_count": null,
      "outputs": [
        {
          "output_type": "stream",
          "text": [
            "/usr/local/lib/python3.6/dist-packages/sklearn/model_selection/_split.py:667: UserWarning: The least populated class in y has only 1 members, which is less than n_splits=5.\n",
            "  % (min_groups, self.n_splits)), UserWarning)\n"
          ],
          "name": "stderr"
        },
        {
          "output_type": "stream",
          "text": [
            "[0.29906542 0.28037383 0.14953271 0.31132075 0.27358491]\n",
            "Accuracy: 0.26 (+/- 0.12)\n"
          ],
          "name": "stdout"
        }
      ]
    },
    {
      "cell_type": "markdown",
      "metadata": {
        "id": "cAowHk4oV36I"
      },
      "source": [
        "**JACKKNIFE for ABA**"
      ]
    },
    {
      "cell_type": "code",
      "metadata": {
        "id": "ON1UMt8bVwbg",
        "outputId": "80ded5b9-3b5e-4cae-d4e3-ad89c0d7d70d",
        "colab": {
          "base_uri": "https://localhost:8080/"
        }
      },
      "source": [
        "from sklearn import ensemble\n",
        "from sklearn.model_selection import LeaveOneOut\n",
        "from sklearn.model_selection import cross_val_score\n",
        "\n",
        "loocv = model_selection.LeaveOneOut()\n",
        "clf =  ensemble.AdaBoostClassifier()\n",
        "results_loocv = model_selection.cross_val_score(clf, X, Y, cv=loocv)\n",
        "#print(results_loocv)\n",
        "results_loocv.shape\n",
        "print(\"Accuracy: %.2f%%\" % (results_loocv.mean()*100.0))"
      ],
      "execution_count": 124,
      "outputs": [
        {
          "output_type": "stream",
          "text": [
            "Accuracy: 28.41%\n"
          ],
          "name": "stdout"
        }
      ]
    }
  ]
}